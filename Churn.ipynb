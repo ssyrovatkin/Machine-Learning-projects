{
  "nbformat": 4,
  "nbformat_minor": 0,
  "metadata": {
    "colab": {
      "name": "churn.ipynb",
      "provenance": [],
      "collapsed_sections": []
    },
    "interpreter": {
      "hash": "70428b391d13c288dbc540caa5bc4ff6cb58f0c0c0cddfce18c6a3087b720a47"
    },
    "kernelspec": {
      "display_name": "Python 3.8.9 64-bit ('dls': virtualenv)",
      "name": "python3"
    },
    "language_info": {
      "codemirror_mode": {
        "name": "ipython",
        "version": 3
      },
      "file_extension": ".py",
      "mimetype": "text/x-python",
      "name": "python",
      "nbconvert_exporter": "python",
      "pygments_lexer": "ipython3",
      "version": "3.8.9"
    }
  },
  "cells": [
    {
      "cell_type": "markdown",
      "metadata": {
        "id": "TK7oX5qdEEYr"
      },
      "source": [
        "<p style=\"align: center;\"><img align=center src=\"https://s8.hostingkartinok.com/uploads/images/2018/08/308b49fcfbc619d629fe4604bceb67ac.jpg\" width=500 height=450/></p>\n",
        "\n",
        "<h3 style=\"text-align: center;\"><b>Школа глубокого обучения ФПМИ МФТИ</b></h3>\n",
        "\n",
        "<h3 style=\"text-align: center;\"><b>Домашнее задание. Продвинутый поток. Весна 2021</b></h3>\n",
        "\n",
        "Это домашнее задание будет посвящено полноценному решению задачи машинного обучения."
      ]
    },
    {
      "cell_type": "markdown",
      "metadata": {
        "id": "zlB-owfaEEYs"
      },
      "source": [
        "Есть две части этого домашнего задания: \n",
        "* Сделать полноценный отчет о вашей работе: как вы обработали данные, какие модели попробовали и какие результаты получились (максимум 10 баллов). За каждую выполненную часть будет начислено определенное количество баллов.\n",
        "* Лучшее решение отправить в соревнование на [kaggle](https://www.kaggle.com/c/advanced-dls-spring-2021/) (максимум 5 баллов). За прохождение определенного порогов будут начисляться баллы.\n",
        "\n",
        "\n",
        "**Обе части будут проверяться в формате peer-review. Т.е. вашу посылку на степик будут проверять несколько других студентов и аггрегация их оценок будет выставлена. В то же время вам тоже нужно будет проверить несколько других учеников.**\n",
        "\n",
        "**Пожалуйста, делайте свою работу чистой и понятной, чтобы облегчить проверку. Если у вас будут проблемы с решением или хочется совета, то пишите в наш чат в телеграме или в лс @runfme. Если вы захотите проаппелировать оценку, то пипшите в лс @runfme.**\n",
        "\n",
        "**Во всех пунктах указания это минимальный набор вещей, которые стоит сделать. Если вы можете сделать какой-то шаг лучше или добавить что-то свое - дерзайте!**"
      ]
    },
    {
      "cell_type": "markdown",
      "metadata": {
        "id": "Tu_JvqcBEN8Y"
      },
      "source": [
        "# Как проверять?\n",
        "\n",
        "Ставьте полный балл, если выполнены все рекомендации или сделано что-то более интересное и сложное. За каждый отсустствующий пункт из рекомендация снижайте 1 балл."
      ]
    },
    {
      "cell_type": "markdown",
      "metadata": {
        "id": "ninJ63mJEEYt"
      },
      "source": [
        "# Метрика\n",
        "\n",
        "Перед решением любой задачи важно понимать, как будет оцениваться ваше решение. В данном случае мы используем стандартную для задачи классификации метрику ROC-AUC. Ее можно вычислить используя только предсказанные вероятности и истинные классы без конкретного порога классификации + она раотает даже если классы в данных сильно несбалансированны (примеров одного класса в десятки раз больше примеров длугого). Именно поэтому она очень удобна для соревнований.\n",
        "\n",
        "Посчитать ее легко:\n"
      ]
    },
    {
      "cell_type": "code",
      "metadata": {
        "colab": {
          "base_uri": "https://localhost:8080/"
        },
        "id": "SQIrka7yEEYu",
        "outputId": "6eed047e-b08e-454e-d48a-c456a9a78ae0"
      },
      "source": [
        "from sklearn.metrics import roc_auc_score\n",
        "\n",
        "y_true = [\n",
        "    0,\n",
        "    1,\n",
        "    1,\n",
        "    0,\n",
        "    1\n",
        "]\n",
        "\n",
        "y_predictions = [\n",
        "    0.1,\n",
        "    0.9,\n",
        "    0.4,\n",
        "    0.6,\n",
        "    0.61\n",
        "]\n",
        "\n",
        "roc_auc_score(y_true, y_predictions)"
      ],
      "execution_count": 1,
      "outputs": [
        {
          "output_type": "execute_result",
          "data": {
            "text/plain": [
              "0.8333333333333333"
            ]
          },
          "metadata": {},
          "execution_count": 1
        }
      ]
    },
    {
      "cell_type": "markdown",
      "metadata": {
        "id": "IrDNNkNTEEYz"
      },
      "source": [
        "# Первая часть. Исследование"
      ]
    },
    {
      "cell_type": "code",
      "metadata": {
        "id": "lzLqEeZKEEYz"
      },
      "source": [
        "import pandas as pd\n",
        "import numpy as np\n",
        "from matplotlib import pyplot as plt\n",
        "import seaborn as sns"
      ],
      "execution_count": 2,
      "outputs": []
    },
    {
      "cell_type": "markdown",
      "metadata": {
        "id": "LOlxdURSEEY3"
      },
      "source": [
        "## Загрузка данных (2 балла)\n",
        "\n",
        "1) Посмотрите на случайные строчки. \n",
        "\n",
        "2) Посмотрите, есть ли в датасете незаполненные значения (nan'ы) с помощью data_train.isna() или data_train.info() и, если нужно, замените их на что-то. Будет хорошо, если вы построите табличку с количеством nan в каждой колонке."
      ]
    },
    {
      "cell_type": "code",
      "metadata": {
        "id": "pol87x7WBLet"
      },
      "source": [
        "# Use this to upload .csv's if you want to rerun cells in google colab. I advise you against doing so.\n",
        "#from google.colab import files\n",
        "\n",
        "#uploaded = files.upload()"
      ],
      "execution_count": 3,
      "outputs": []
    },
    {
      "cell_type": "code",
      "metadata": {
        "id": "pw-Brue9EEY3"
      },
      "source": [
        "data_train = pd.read_csv('./train.csv')"
      ],
      "execution_count": 4,
      "outputs": []
    },
    {
      "cell_type": "code",
      "metadata": {
        "id": "i71zeEzMBDem"
      },
      "source": [
        "data_test = pd.read_csv('./test.csv')"
      ],
      "execution_count": 42,
      "outputs": []
    },
    {
      "cell_type": "code",
      "metadata": {
        "id": "KgnkkF5bEEY9"
      },
      "source": [
        "# Для вашего удобства списки с именами разных колонок\n",
        "\n",
        "# Числовые признаки\n",
        "num_cols = [\n",
        "    'ClientPeriod',\n",
        "    'MonthlySpending',\n",
        "    'TotalSpent'\n",
        "]\n",
        "\n",
        "# Категориальные признаки\n",
        "cat_cols = [\n",
        "    'Sex',\n",
        "    'IsSeniorCitizen',\n",
        "    'HasPartner',\n",
        "    'HasChild',\n",
        "    'HasPhoneService',\n",
        "    'HasMultiplePhoneNumbers',\n",
        "    'HasInternetService',\n",
        "    'HasOnlineSecurityService',\n",
        "    'HasOnlineBackup',\n",
        "    'HasDeviceProtection',\n",
        "    'HasTechSupportAccess',\n",
        "    'HasOnlineTV',\n",
        "    'HasMovieSubscription',\n",
        "    'HasContractPhone',\n",
        "    'IsBillingPaperless',\n",
        "    'PaymentMethod'\n",
        "]\n",
        "\n",
        "feature_cols = num_cols + cat_cols\n",
        "target_col = 'Churn'"
      ],
      "execution_count": 6,
      "outputs": []
    },
    {
      "cell_type": "code",
      "metadata": {
        "colab": {
          "base_uri": "https://localhost:8080/"
        },
        "id": "tHC6gWabEEZA",
        "outputId": "4b24997e-4a65-49f2-ff4a-013e0f698aed"
      },
      "source": [
        "data_train.info()"
      ],
      "execution_count": 7,
      "outputs": [
        {
          "output_type": "stream",
          "name": "stdout",
          "text": [
            "<class 'pandas.core.frame.DataFrame'>\n",
            "RangeIndex: 5282 entries, 0 to 5281\n",
            "Data columns (total 20 columns):\n",
            " #   Column                    Non-Null Count  Dtype  \n",
            "---  ------                    --------------  -----  \n",
            " 0   ClientPeriod              5282 non-null   int64  \n",
            " 1   MonthlySpending           5282 non-null   float64\n",
            " 2   TotalSpent                5282 non-null   object \n",
            " 3   Sex                       5282 non-null   object \n",
            " 4   IsSeniorCitizen           5282 non-null   int64  \n",
            " 5   HasPartner                5282 non-null   object \n",
            " 6   HasChild                  5282 non-null   object \n",
            " 7   HasPhoneService           5282 non-null   object \n",
            " 8   HasMultiplePhoneNumbers   5282 non-null   object \n",
            " 9   HasInternetService        5282 non-null   object \n",
            " 10  HasOnlineSecurityService  5282 non-null   object \n",
            " 11  HasOnlineBackup           5282 non-null   object \n",
            " 12  HasDeviceProtection       5282 non-null   object \n",
            " 13  HasTechSupportAccess      5282 non-null   object \n",
            " 14  HasOnlineTV               5282 non-null   object \n",
            " 15  HasMovieSubscription      5282 non-null   object \n",
            " 16  HasContractPhone          5282 non-null   object \n",
            " 17  IsBillingPaperless        5282 non-null   object \n",
            " 18  PaymentMethod             5282 non-null   object \n",
            " 19  Churn                     5282 non-null   int64  \n",
            "dtypes: float64(1), int64(3), object(16)\n",
            "memory usage: 825.4+ KB\n"
          ]
        }
      ]
    },
    {
      "cell_type": "code",
      "metadata": {
        "colab": {
          "base_uri": "https://localhost:8080/",
          "height": 296
        },
        "id": "nmdaNLhlBDep",
        "outputId": "ff206f14-0c67-4e89-c302-54f7b4e5d6ef"
      },
      "source": [
        "data_train.head()"
      ],
      "execution_count": 8,
      "outputs": [
        {
          "output_type": "execute_result",
          "data": {
            "text/html": [
              "<div>\n",
              "<style scoped>\n",
              "    .dataframe tbody tr th:only-of-type {\n",
              "        vertical-align: middle;\n",
              "    }\n",
              "\n",
              "    .dataframe tbody tr th {\n",
              "        vertical-align: top;\n",
              "    }\n",
              "\n",
              "    .dataframe thead th {\n",
              "        text-align: right;\n",
              "    }\n",
              "</style>\n",
              "<table border=\"1\" class=\"dataframe\">\n",
              "  <thead>\n",
              "    <tr style=\"text-align: right;\">\n",
              "      <th></th>\n",
              "      <th>ClientPeriod</th>\n",
              "      <th>MonthlySpending</th>\n",
              "      <th>TotalSpent</th>\n",
              "      <th>Sex</th>\n",
              "      <th>IsSeniorCitizen</th>\n",
              "      <th>HasPartner</th>\n",
              "      <th>HasChild</th>\n",
              "      <th>HasPhoneService</th>\n",
              "      <th>HasMultiplePhoneNumbers</th>\n",
              "      <th>HasInternetService</th>\n",
              "      <th>HasOnlineSecurityService</th>\n",
              "      <th>HasOnlineBackup</th>\n",
              "      <th>HasDeviceProtection</th>\n",
              "      <th>HasTechSupportAccess</th>\n",
              "      <th>HasOnlineTV</th>\n",
              "      <th>HasMovieSubscription</th>\n",
              "      <th>HasContractPhone</th>\n",
              "      <th>IsBillingPaperless</th>\n",
              "      <th>PaymentMethod</th>\n",
              "      <th>Churn</th>\n",
              "    </tr>\n",
              "  </thead>\n",
              "  <tbody>\n",
              "    <tr>\n",
              "      <th>0</th>\n",
              "      <td>55</td>\n",
              "      <td>19.50</td>\n",
              "      <td>1026.35</td>\n",
              "      <td>Male</td>\n",
              "      <td>0</td>\n",
              "      <td>Yes</td>\n",
              "      <td>Yes</td>\n",
              "      <td>Yes</td>\n",
              "      <td>No</td>\n",
              "      <td>No</td>\n",
              "      <td>No internet service</td>\n",
              "      <td>No internet service</td>\n",
              "      <td>No internet service</td>\n",
              "      <td>No internet service</td>\n",
              "      <td>No internet service</td>\n",
              "      <td>No internet service</td>\n",
              "      <td>One year</td>\n",
              "      <td>No</td>\n",
              "      <td>Mailed check</td>\n",
              "      <td>0</td>\n",
              "    </tr>\n",
              "    <tr>\n",
              "      <th>1</th>\n",
              "      <td>72</td>\n",
              "      <td>25.85</td>\n",
              "      <td>1872.2</td>\n",
              "      <td>Male</td>\n",
              "      <td>0</td>\n",
              "      <td>Yes</td>\n",
              "      <td>No</td>\n",
              "      <td>Yes</td>\n",
              "      <td>Yes</td>\n",
              "      <td>No</td>\n",
              "      <td>No internet service</td>\n",
              "      <td>No internet service</td>\n",
              "      <td>No internet service</td>\n",
              "      <td>No internet service</td>\n",
              "      <td>No internet service</td>\n",
              "      <td>No internet service</td>\n",
              "      <td>Two year</td>\n",
              "      <td>No</td>\n",
              "      <td>Credit card (automatic)</td>\n",
              "      <td>0</td>\n",
              "    </tr>\n",
              "    <tr>\n",
              "      <th>2</th>\n",
              "      <td>1</td>\n",
              "      <td>75.90</td>\n",
              "      <td>75.9</td>\n",
              "      <td>Male</td>\n",
              "      <td>0</td>\n",
              "      <td>No</td>\n",
              "      <td>No</td>\n",
              "      <td>Yes</td>\n",
              "      <td>No</td>\n",
              "      <td>Fiber optic</td>\n",
              "      <td>No</td>\n",
              "      <td>No</td>\n",
              "      <td>No</td>\n",
              "      <td>Yes</td>\n",
              "      <td>No</td>\n",
              "      <td>No</td>\n",
              "      <td>Month-to-month</td>\n",
              "      <td>Yes</td>\n",
              "      <td>Electronic check</td>\n",
              "      <td>1</td>\n",
              "    </tr>\n",
              "    <tr>\n",
              "      <th>3</th>\n",
              "      <td>32</td>\n",
              "      <td>79.30</td>\n",
              "      <td>2570</td>\n",
              "      <td>Female</td>\n",
              "      <td>1</td>\n",
              "      <td>Yes</td>\n",
              "      <td>No</td>\n",
              "      <td>Yes</td>\n",
              "      <td>Yes</td>\n",
              "      <td>Fiber optic</td>\n",
              "      <td>No</td>\n",
              "      <td>No</td>\n",
              "      <td>Yes</td>\n",
              "      <td>No</td>\n",
              "      <td>No</td>\n",
              "      <td>No</td>\n",
              "      <td>Month-to-month</td>\n",
              "      <td>No</td>\n",
              "      <td>Mailed check</td>\n",
              "      <td>0</td>\n",
              "    </tr>\n",
              "    <tr>\n",
              "      <th>4</th>\n",
              "      <td>60</td>\n",
              "      <td>115.25</td>\n",
              "      <td>6758.45</td>\n",
              "      <td>Female</td>\n",
              "      <td>0</td>\n",
              "      <td>Yes</td>\n",
              "      <td>Yes</td>\n",
              "      <td>Yes</td>\n",
              "      <td>Yes</td>\n",
              "      <td>Fiber optic</td>\n",
              "      <td>Yes</td>\n",
              "      <td>Yes</td>\n",
              "      <td>Yes</td>\n",
              "      <td>Yes</td>\n",
              "      <td>Yes</td>\n",
              "      <td>Yes</td>\n",
              "      <td>Two year</td>\n",
              "      <td>No</td>\n",
              "      <td>Credit card (automatic)</td>\n",
              "      <td>0</td>\n",
              "    </tr>\n",
              "  </tbody>\n",
              "</table>\n",
              "</div>"
            ],
            "text/plain": [
              "   ClientPeriod  MonthlySpending  ...            PaymentMethod Churn\n",
              "0            55            19.50  ...             Mailed check     0\n",
              "1            72            25.85  ...  Credit card (automatic)     0\n",
              "2             1            75.90  ...         Electronic check     1\n",
              "3            32            79.30  ...             Mailed check     0\n",
              "4            60           115.25  ...  Credit card (automatic)     0\n",
              "\n",
              "[5 rows x 20 columns]"
            ]
          },
          "metadata": {},
          "execution_count": 8
        }
      ]
    },
    {
      "cell_type": "code",
      "metadata": {
        "colab": {
          "base_uri": "https://localhost:8080/",
          "height": 313
        },
        "id": "r1vxBWQMBDer",
        "outputId": "90e05ef5-2784-49d0-dbb1-677f338793f8"
      },
      "source": [
        "# Просмотр пяти случайных строк\n",
        "data_train.iloc[np.random.randint(0, data_train.shape[0], 5)]"
      ],
      "execution_count": 9,
      "outputs": [
        {
          "output_type": "execute_result",
          "data": {
            "text/html": [
              "<div>\n",
              "<style scoped>\n",
              "    .dataframe tbody tr th:only-of-type {\n",
              "        vertical-align: middle;\n",
              "    }\n",
              "\n",
              "    .dataframe tbody tr th {\n",
              "        vertical-align: top;\n",
              "    }\n",
              "\n",
              "    .dataframe thead th {\n",
              "        text-align: right;\n",
              "    }\n",
              "</style>\n",
              "<table border=\"1\" class=\"dataframe\">\n",
              "  <thead>\n",
              "    <tr style=\"text-align: right;\">\n",
              "      <th></th>\n",
              "      <th>ClientPeriod</th>\n",
              "      <th>MonthlySpending</th>\n",
              "      <th>TotalSpent</th>\n",
              "      <th>Sex</th>\n",
              "      <th>IsSeniorCitizen</th>\n",
              "      <th>HasPartner</th>\n",
              "      <th>HasChild</th>\n",
              "      <th>HasPhoneService</th>\n",
              "      <th>HasMultiplePhoneNumbers</th>\n",
              "      <th>HasInternetService</th>\n",
              "      <th>HasOnlineSecurityService</th>\n",
              "      <th>HasOnlineBackup</th>\n",
              "      <th>HasDeviceProtection</th>\n",
              "      <th>HasTechSupportAccess</th>\n",
              "      <th>HasOnlineTV</th>\n",
              "      <th>HasMovieSubscription</th>\n",
              "      <th>HasContractPhone</th>\n",
              "      <th>IsBillingPaperless</th>\n",
              "      <th>PaymentMethod</th>\n",
              "      <th>Churn</th>\n",
              "    </tr>\n",
              "  </thead>\n",
              "  <tbody>\n",
              "    <tr>\n",
              "      <th>262</th>\n",
              "      <td>70</td>\n",
              "      <td>108.15</td>\n",
              "      <td>7930.55</td>\n",
              "      <td>Female</td>\n",
              "      <td>0</td>\n",
              "      <td>Yes</td>\n",
              "      <td>Yes</td>\n",
              "      <td>Yes</td>\n",
              "      <td>Yes</td>\n",
              "      <td>Fiber optic</td>\n",
              "      <td>Yes</td>\n",
              "      <td>Yes</td>\n",
              "      <td>Yes</td>\n",
              "      <td>No</td>\n",
              "      <td>Yes</td>\n",
              "      <td>Yes</td>\n",
              "      <td>One year</td>\n",
              "      <td>Yes</td>\n",
              "      <td>Credit card (automatic)</td>\n",
              "      <td>0</td>\n",
              "    </tr>\n",
              "    <tr>\n",
              "      <th>2822</th>\n",
              "      <td>13</td>\n",
              "      <td>95.25</td>\n",
              "      <td>1233.65</td>\n",
              "      <td>Male</td>\n",
              "      <td>1</td>\n",
              "      <td>Yes</td>\n",
              "      <td>No</td>\n",
              "      <td>Yes</td>\n",
              "      <td>Yes</td>\n",
              "      <td>Fiber optic</td>\n",
              "      <td>No</td>\n",
              "      <td>No</td>\n",
              "      <td>No</td>\n",
              "      <td>No</td>\n",
              "      <td>Yes</td>\n",
              "      <td>Yes</td>\n",
              "      <td>Month-to-month</td>\n",
              "      <td>Yes</td>\n",
              "      <td>Electronic check</td>\n",
              "      <td>1</td>\n",
              "    </tr>\n",
              "    <tr>\n",
              "      <th>252</th>\n",
              "      <td>4</td>\n",
              "      <td>44.80</td>\n",
              "      <td>169.65</td>\n",
              "      <td>Male</td>\n",
              "      <td>0</td>\n",
              "      <td>Yes</td>\n",
              "      <td>Yes</td>\n",
              "      <td>Yes</td>\n",
              "      <td>No</td>\n",
              "      <td>DSL</td>\n",
              "      <td>No</td>\n",
              "      <td>No</td>\n",
              "      <td>No</td>\n",
              "      <td>No</td>\n",
              "      <td>No</td>\n",
              "      <td>No</td>\n",
              "      <td>Month-to-month</td>\n",
              "      <td>No</td>\n",
              "      <td>Electronic check</td>\n",
              "      <td>0</td>\n",
              "    </tr>\n",
              "    <tr>\n",
              "      <th>4383</th>\n",
              "      <td>57</td>\n",
              "      <td>53.35</td>\n",
              "      <td>3090.05</td>\n",
              "      <td>Male</td>\n",
              "      <td>0</td>\n",
              "      <td>No</td>\n",
              "      <td>No</td>\n",
              "      <td>No</td>\n",
              "      <td>No phone service</td>\n",
              "      <td>DSL</td>\n",
              "      <td>No</td>\n",
              "      <td>No</td>\n",
              "      <td>Yes</td>\n",
              "      <td>Yes</td>\n",
              "      <td>Yes</td>\n",
              "      <td>Yes</td>\n",
              "      <td>Two year</td>\n",
              "      <td>No</td>\n",
              "      <td>Credit card (automatic)</td>\n",
              "      <td>0</td>\n",
              "    </tr>\n",
              "    <tr>\n",
              "      <th>4525</th>\n",
              "      <td>72</td>\n",
              "      <td>115.80</td>\n",
              "      <td>8476.5</td>\n",
              "      <td>Female</td>\n",
              "      <td>0</td>\n",
              "      <td>Yes</td>\n",
              "      <td>Yes</td>\n",
              "      <td>Yes</td>\n",
              "      <td>Yes</td>\n",
              "      <td>Fiber optic</td>\n",
              "      <td>Yes</td>\n",
              "      <td>Yes</td>\n",
              "      <td>Yes</td>\n",
              "      <td>Yes</td>\n",
              "      <td>Yes</td>\n",
              "      <td>Yes</td>\n",
              "      <td>Two year</td>\n",
              "      <td>Yes</td>\n",
              "      <td>Bank transfer (automatic)</td>\n",
              "      <td>0</td>\n",
              "    </tr>\n",
              "  </tbody>\n",
              "</table>\n",
              "</div>"
            ],
            "text/plain": [
              "      ClientPeriod  MonthlySpending  ...              PaymentMethod Churn\n",
              "262             70           108.15  ...    Credit card (automatic)     0\n",
              "2822            13            95.25  ...           Electronic check     1\n",
              "252              4            44.80  ...           Electronic check     0\n",
              "4383            57            53.35  ...    Credit card (automatic)     0\n",
              "4525            72           115.80  ...  Bank transfer (automatic)     0\n",
              "\n",
              "[5 rows x 20 columns]"
            ]
          },
          "metadata": {},
          "execution_count": 9
        }
      ]
    },
    {
      "cell_type": "code",
      "metadata": {
        "colab": {
          "base_uri": "https://localhost:8080/"
        },
        "id": "LIZ4_fzhBDes",
        "outputId": "65dd0b7d-e13e-4db5-bbef-60ad30c338a0"
      },
      "source": [
        "# В TotalSpent есть пустое значение-пробел, поэтому столбец имеет dtype=object\n",
        "np.unique(data_train[\"TotalSpent\"])"
      ],
      "execution_count": 10,
      "outputs": [
        {
          "output_type": "execute_result",
          "data": {
            "text/plain": [
              "array([' ', '100.2', '100.25', ..., '997.65', '998.1', '999.9'],\n",
              "      dtype=object)"
            ]
          },
          "metadata": {},
          "execution_count": 10
        }
      ]
    },
    {
      "cell_type": "code",
      "metadata": {
        "id": "M3aiCDgSBDes"
      },
      "source": [
        "# заменим на 0\n",
        "data_train[\"TotalSpent\"].replace(to_replace=\" \", value=\"0\", inplace=True)\n",
        "data_test[\"TotalSpent\"].replace(to_replace=\" \", value=\"0\", inplace=True)"
      ],
      "execution_count": 43,
      "outputs": []
    },
    {
      "cell_type": "code",
      "metadata": {
        "id": "4Y_xujm1BDet"
      },
      "source": [
        "# переведём в число\n",
        "data_train[\"TotalSpent\"] = pd.to_numeric(data_train['TotalSpent'])\n",
        "data_test[\"TotalSpent\"] = pd.to_numeric(data_test['TotalSpent'])"
      ],
      "execution_count": 44,
      "outputs": []
    },
    {
      "cell_type": "code",
      "metadata": {
        "colab": {
          "base_uri": "https://localhost:8080/",
          "height": 296
        },
        "id": "eqSYwtXUBDet",
        "outputId": "b1b8056a-1b19-4116-fe35-46ef61e328eb"
      },
      "source": [
        "data_train.head()"
      ],
      "execution_count": 13,
      "outputs": [
        {
          "output_type": "execute_result",
          "data": {
            "text/html": [
              "<div>\n",
              "<style scoped>\n",
              "    .dataframe tbody tr th:only-of-type {\n",
              "        vertical-align: middle;\n",
              "    }\n",
              "\n",
              "    .dataframe tbody tr th {\n",
              "        vertical-align: top;\n",
              "    }\n",
              "\n",
              "    .dataframe thead th {\n",
              "        text-align: right;\n",
              "    }\n",
              "</style>\n",
              "<table border=\"1\" class=\"dataframe\">\n",
              "  <thead>\n",
              "    <tr style=\"text-align: right;\">\n",
              "      <th></th>\n",
              "      <th>ClientPeriod</th>\n",
              "      <th>MonthlySpending</th>\n",
              "      <th>TotalSpent</th>\n",
              "      <th>Sex</th>\n",
              "      <th>IsSeniorCitizen</th>\n",
              "      <th>HasPartner</th>\n",
              "      <th>HasChild</th>\n",
              "      <th>HasPhoneService</th>\n",
              "      <th>HasMultiplePhoneNumbers</th>\n",
              "      <th>HasInternetService</th>\n",
              "      <th>HasOnlineSecurityService</th>\n",
              "      <th>HasOnlineBackup</th>\n",
              "      <th>HasDeviceProtection</th>\n",
              "      <th>HasTechSupportAccess</th>\n",
              "      <th>HasOnlineTV</th>\n",
              "      <th>HasMovieSubscription</th>\n",
              "      <th>HasContractPhone</th>\n",
              "      <th>IsBillingPaperless</th>\n",
              "      <th>PaymentMethod</th>\n",
              "      <th>Churn</th>\n",
              "    </tr>\n",
              "  </thead>\n",
              "  <tbody>\n",
              "    <tr>\n",
              "      <th>0</th>\n",
              "      <td>55</td>\n",
              "      <td>19.50</td>\n",
              "      <td>1026.35</td>\n",
              "      <td>Male</td>\n",
              "      <td>0</td>\n",
              "      <td>Yes</td>\n",
              "      <td>Yes</td>\n",
              "      <td>Yes</td>\n",
              "      <td>No</td>\n",
              "      <td>No</td>\n",
              "      <td>No internet service</td>\n",
              "      <td>No internet service</td>\n",
              "      <td>No internet service</td>\n",
              "      <td>No internet service</td>\n",
              "      <td>No internet service</td>\n",
              "      <td>No internet service</td>\n",
              "      <td>One year</td>\n",
              "      <td>No</td>\n",
              "      <td>Mailed check</td>\n",
              "      <td>0</td>\n",
              "    </tr>\n",
              "    <tr>\n",
              "      <th>1</th>\n",
              "      <td>72</td>\n",
              "      <td>25.85</td>\n",
              "      <td>1872.20</td>\n",
              "      <td>Male</td>\n",
              "      <td>0</td>\n",
              "      <td>Yes</td>\n",
              "      <td>No</td>\n",
              "      <td>Yes</td>\n",
              "      <td>Yes</td>\n",
              "      <td>No</td>\n",
              "      <td>No internet service</td>\n",
              "      <td>No internet service</td>\n",
              "      <td>No internet service</td>\n",
              "      <td>No internet service</td>\n",
              "      <td>No internet service</td>\n",
              "      <td>No internet service</td>\n",
              "      <td>Two year</td>\n",
              "      <td>No</td>\n",
              "      <td>Credit card (automatic)</td>\n",
              "      <td>0</td>\n",
              "    </tr>\n",
              "    <tr>\n",
              "      <th>2</th>\n",
              "      <td>1</td>\n",
              "      <td>75.90</td>\n",
              "      <td>75.90</td>\n",
              "      <td>Male</td>\n",
              "      <td>0</td>\n",
              "      <td>No</td>\n",
              "      <td>No</td>\n",
              "      <td>Yes</td>\n",
              "      <td>No</td>\n",
              "      <td>Fiber optic</td>\n",
              "      <td>No</td>\n",
              "      <td>No</td>\n",
              "      <td>No</td>\n",
              "      <td>Yes</td>\n",
              "      <td>No</td>\n",
              "      <td>No</td>\n",
              "      <td>Month-to-month</td>\n",
              "      <td>Yes</td>\n",
              "      <td>Electronic check</td>\n",
              "      <td>1</td>\n",
              "    </tr>\n",
              "    <tr>\n",
              "      <th>3</th>\n",
              "      <td>32</td>\n",
              "      <td>79.30</td>\n",
              "      <td>2570.00</td>\n",
              "      <td>Female</td>\n",
              "      <td>1</td>\n",
              "      <td>Yes</td>\n",
              "      <td>No</td>\n",
              "      <td>Yes</td>\n",
              "      <td>Yes</td>\n",
              "      <td>Fiber optic</td>\n",
              "      <td>No</td>\n",
              "      <td>No</td>\n",
              "      <td>Yes</td>\n",
              "      <td>No</td>\n",
              "      <td>No</td>\n",
              "      <td>No</td>\n",
              "      <td>Month-to-month</td>\n",
              "      <td>No</td>\n",
              "      <td>Mailed check</td>\n",
              "      <td>0</td>\n",
              "    </tr>\n",
              "    <tr>\n",
              "      <th>4</th>\n",
              "      <td>60</td>\n",
              "      <td>115.25</td>\n",
              "      <td>6758.45</td>\n",
              "      <td>Female</td>\n",
              "      <td>0</td>\n",
              "      <td>Yes</td>\n",
              "      <td>Yes</td>\n",
              "      <td>Yes</td>\n",
              "      <td>Yes</td>\n",
              "      <td>Fiber optic</td>\n",
              "      <td>Yes</td>\n",
              "      <td>Yes</td>\n",
              "      <td>Yes</td>\n",
              "      <td>Yes</td>\n",
              "      <td>Yes</td>\n",
              "      <td>Yes</td>\n",
              "      <td>Two year</td>\n",
              "      <td>No</td>\n",
              "      <td>Credit card (automatic)</td>\n",
              "      <td>0</td>\n",
              "    </tr>\n",
              "  </tbody>\n",
              "</table>\n",
              "</div>"
            ],
            "text/plain": [
              "   ClientPeriod  MonthlySpending  ...            PaymentMethod Churn\n",
              "0            55            19.50  ...             Mailed check     0\n",
              "1            72            25.85  ...  Credit card (automatic)     0\n",
              "2             1            75.90  ...         Electronic check     1\n",
              "3            32            79.30  ...             Mailed check     0\n",
              "4            60           115.25  ...  Credit card (automatic)     0\n",
              "\n",
              "[5 rows x 20 columns]"
            ]
          },
          "metadata": {},
          "execution_count": 13
        }
      ]
    },
    {
      "cell_type": "code",
      "metadata": {
        "colab": {
          "base_uri": "https://localhost:8080/"
        },
        "id": "k7O3mucZBDet",
        "outputId": "c2ed98fd-3f97-4cee-e41b-71b00598b1ee"
      },
      "source": [
        "# повторяющиеся строки\n",
        "np.where(data_train.duplicated(keep=False) == True)"
      ],
      "execution_count": 14,
      "outputs": [
        {
          "output_type": "execute_result",
          "data": {
            "text/plain": [
              "(array([   7,  170,  329,  409,  594,  838, 1068, 1217, 1236, 1384, 1474,\n",
              "        1636, 1898, 1959, 2024, 2036, 2568, 2586, 2877, 2991, 3660, 3735,\n",
              "        3749, 4276, 4373, 4509, 4530, 5041]),)"
            ]
          },
          "metadata": {},
          "execution_count": 14
        }
      ]
    },
    {
      "cell_type": "code",
      "metadata": {
        "id": "q7FfZAGhBDeu"
      },
      "source": [
        "# уберём дубликаты\n",
        "data_train.drop_duplicates(inplace=True)"
      ],
      "execution_count": 15,
      "outputs": []
    },
    {
      "cell_type": "markdown",
      "metadata": {
        "id": "dK370bPCEEZD"
      },
      "source": [
        "## Анализ данных (3 балла)\n",
        "\n",
        "1) Для численных призанков постройте гистограмму (*plt.hist(...)*) или boxplot (*plt.boxplot(...)*). Для категориальных посчитайте количество каждого значения для каждого признака. Для каждой колонки надо сделать *data_train.value_counts()* и построить bar диаграммы *plt.bar(...)* или круговые диаграммы *plt.pie(...)* (хорошо, елси вы сможете это сделать на одном гарфике с помощью *plt.subplots(...)*). \n",
        "\n",
        "2) Посмотрите на распределение целевой переменной и скажите, являются ли классы несбалансированными.\n",
        "\n",
        "3) (Если будет желание) Поиграйте с разными библиотеками для визуализации - *sns*, *pandas_visual_analysis*, etc.\n",
        "\n",
        "Второй пункт очень важен, потому что существуют задачи классификации с несбалансированными классами. Например, это может значить, что в датасете намного больше примеров 0 класса. В таких случаях нужно 1) не использовать accuracy как метрику 2) использовать методы борьбы с imbalanced data_trainset (обычно если датасет сильно несбалансирован, т.е. класса 1 в 20 раз меньше класса 0)."
      ]
    },
    {
      "cell_type": "code",
      "metadata": {
        "colab": {
          "base_uri": "https://localhost:8080/",
          "height": 677
        },
        "id": "n3jwCPyVBDev",
        "outputId": "f3936965-2994-4575-a224-55ede6f7bee2"
      },
      "source": [
        "fig, axes = plt.subplots(1, 3, figsize=(20, 10))\n",
        "fig.suptitle('Numerical features: histograms')\n",
        "for i, e in enumerate(num_cols):\n",
        "    sns.histplot(data=data_train[e], ax=axes[i], palette=\"dark\");\n"
      ],
      "execution_count": 16,
      "outputs": [
        {
          "output_type": "display_data",
          "data": {
            "image/png": "[encoded data removed]",
            "text/plain": [
              "<Figure size 1440x720 with 3 Axes>"
            ]
          },
          "metadata": {
            "needs_background": "light"
          }
        }
      ]
    },
    {
      "cell_type": "code",
      "metadata": {
        "colab": {
          "base_uri": "https://localhost:8080/"
        },
        "id": "z0BoX30dBDev",
        "outputId": "89931200-114a-4851-ce6b-47a65d38e2ff"
      },
      "source": [
        "data_train[cat_cols[0]].value_counts()"
      ],
      "execution_count": 17,
      "outputs": [
        {
          "output_type": "execute_result",
          "data": {
            "text/plain": [
              "Male      2647\n",
              "Female    2621\n",
              "Name: Sex, dtype: int64"
            ]
          },
          "metadata": {},
          "execution_count": 17
        }
      ]
    },
    {
      "cell_type": "code",
      "metadata": {
        "colab": {
          "base_uri": "https://localhost:8080/",
          "height": 1000
        },
        "id": "IFu83sEJBDew",
        "outputId": "22f11c28-10e8-488b-c697-0e55c9d26cf9"
      },
      "source": [
        "fig, axes = plt.subplots(16, 1, figsize=(20, 50))\n",
        "fig.suptitle('Сategorical features: bar plots')\n",
        "\n",
        "for i, category in enumerate(cat_cols):\n",
        "    data_train[category].value_counts().plot.bar(rot=0, ax = axes[i], edgecolor='black', linewidth=1)\n",
        "    axes[i].set_title(category)\n",
        "\n",
        "plt.subplots_adjust(hspace=1)"
      ],
      "execution_count": 18,
      "outputs": [
        {
          "output_type": "display_data",
          "data": {
            "image/png": "[encoded data removed]",
            "text/plain": [
              "<Figure size 1440x3600 with 16 Axes>"
            ]
          },
          "metadata": {
            "needs_background": "light"
          }
        }
      ]
    },
    {
      "cell_type": "code",
      "metadata": {
        "colab": {
          "base_uri": "https://localhost:8080/",
          "height": 279
        },
        "id": "rUzeuhqUBDew",
        "outputId": "26b12a3b-0925-4232-cacb-8899cd9ad752"
      },
      "source": [
        "sns.countplot(x=data_train[target_col]);"
      ],
      "execution_count": 19,
      "outputs": [
        {
          "output_type": "display_data",
          "data": {
            "image/png": "[encoded data removed]",
            "text/plain": [
              "<Figure size 432x288 with 1 Axes>"
            ]
          },
          "metadata": {
            "needs_background": "light"
          }
        }
      ]
    },
    {
      "cell_type": "code",
      "metadata": {
        "colab": {
          "base_uri": "https://localhost:8080/",
          "height": 35
        },
        "id": "mb276md_BDey",
        "outputId": "4ad39a71-b817-4c5e-c71f-3447c7851006"
      },
      "source": [
        "f\"Отношение классов: {data_train[target_col].value_counts()[0]/data_train[target_col].value_counts()[1]}\""
      ],
      "execution_count": 20,
      "outputs": [
        {
          "output_type": "execute_result",
          "data": {
            "application/vnd.google.colaboratory.intrinsic+json": {
              "type": "string"
            },
            "text/plain": [
              "'Отношение классов: 2.834061135371179'"
            ]
          },
          "metadata": {},
          "execution_count": 20
        }
      ]
    },
    {
      "cell_type": "markdown",
      "metadata": {
        "id": "HJ2jbv9cBDey"
      },
      "source": [
        "*Целевая переменная является сбалансированной.*\n"
      ]
    },
    {
      "cell_type": "markdown",
      "metadata": {
        "id": "zg60u3QDEEZH"
      },
      "source": [
        "(Дополнительно) Если вы нашли какие-то ошибки в данных или выбросы, то можете их убрать. Тут можно поэксперементировать с обработкой данных как угодно, но не за баллы."
      ]
    },
    {
      "cell_type": "code",
      "metadata": {
        "id": "fBFWGrNUHVs1"
      },
      "source": [
        "# Nah, I'm fine."
      ],
      "execution_count": 21,
      "outputs": []
    },
    {
      "cell_type": "markdown",
      "metadata": {
        "id": "DviiJd8REEZK"
      },
      "source": [
        "## Применение линейных моделей (3 балла)\n",
        "\n",
        "1) Обработайте данные для того, чтобы к ним можно было применить LogisticRegression. Т.е. отнормируйте числовые признаки, а категориальные закодируйте с помощью one-hot-encoding'а. \n",
        "\n",
        "2) С помощью кроссвалидации или разделения на train/valid выборку протестируйте разные значения гиперпараметра C и выберите лучший (можно тестировать С=100, 10, 1, 0.1, 0.01, 0.001) по метрике ROC-AUC. \n",
        "\n",
        "Если вы разделяете на train/valid, то используйте LogisticRegressionCV. Он сам при вызове .fit() подберет параметр С. (не забудьте передать scroing='roc_auc', чтобы при кроссвалидации сравнивались значения этой метрики, и refit=True, чтобы при потом модель обучилась на всем датасете с лучшим параметром C). \n",
        "\n",
        "\n",
        "(более сложный вариант) Если вы будете использовать кроссвалидацию, то преобразования данных и LogisticRegression нужно соединить в один Pipeline с помощью make_pipeline, как это делалось во втором семинаре. Потом pipeline надо передать в GridSearchCV. Для one-hot-encoding'a можно испльзовать комбинацию LabelEncoder + OneHotEncoder (сначала превращаем строчки в числа, а потом числа првращаем в one-hot вектора.)"
      ]
    },
    {
      "cell_type": "code",
      "metadata": {
        "id": "xHCLDmwqEEZL"
      },
      "source": [
        "from sklearn.linear_model import LogisticRegression, LogisticRegressionCV\n",
        "from sklearn.model_selection import train_test_split, GridSearchCV\n",
        "from sklearn.preprocessing import StandardScaler, RobustScaler, LabelEncoder, OneHotEncoder\n",
        "from sklearn.pipeline import make_pipeline"
      ],
      "execution_count": 22,
      "outputs": []
    },
    {
      "cell_type": "code",
      "metadata": {
        "id": "nezpF7B_BDez"
      },
      "source": [
        "X, y = data_train[data_train.columns.difference([target_col])], data_train[target_col]"
      ],
      "execution_count": 23,
      "outputs": []
    },
    {
      "cell_type": "code",
      "metadata": {
        "id": "GHfQO8JFBDe0"
      },
      "source": [
        "def one_hot(data_train, num, cat):\n",
        "    return pd.concat([data_train[num], pd.get_dummies(data_train[cat])], axis=1)"
      ],
      "execution_count": 24,
      "outputs": []
    },
    {
      "cell_type": "code",
      "metadata": {
        "id": "Ta9oJD4yBDe0"
      },
      "source": [
        "X = one_hot(X, num_cols, cat_cols)"
      ],
      "execution_count": 25,
      "outputs": []
    },
    {
      "cell_type": "code",
      "metadata": {
        "id": "4b0ZjJ8hBDe1"
      },
      "source": [
        "test = one_hot(data_test, num_cols, cat_cols)"
      ],
      "execution_count": 26,
      "outputs": []
    },
    {
      "cell_type": "code",
      "metadata": {
        "id": "bAZn2vUABDe1"
      },
      "source": [
        "X_train, X_valid, y_train, y_valid = train_test_split(X, y, test_size=0.3, stratify=y, random_state=42)"
      ],
      "execution_count": 27,
      "outputs": []
    },
    {
      "cell_type": "code",
      "metadata": {
        "colab": {
          "base_uri": "https://localhost:8080/"
        },
        "id": "34xiyLmRBDe1",
        "outputId": "d5c7a376-db66-439d-ceb1-4c44cfb8cf87"
      },
      "source": [
        "logregCV = LogisticRegressionCV(Cs=[100, 10, 1, 0.1, 0.01, 0.001], solver=\"liblinear\", class_weight=\"balanced\", scoring=\"roc_auc\", refit=True, random_state=42)\n",
        "logregCV.fit(X_train, y_train)"
      ],
      "execution_count": 28,
      "outputs": [
        {
          "output_type": "execute_result",
          "data": {
            "text/plain": [
              "LogisticRegressionCV(Cs=[100, 10, 1, 0.1, 0.01, 0.001], class_weight='balanced',\n",
              "                     cv=None, dual=False, fit_intercept=True,\n",
              "                     intercept_scaling=1.0, l1_ratios=None, max_iter=100,\n",
              "                     multi_class='auto', n_jobs=None, penalty='l2',\n",
              "                     random_state=42, refit=True, scoring='roc_auc',\n",
              "                     solver='liblinear', tol=0.0001, verbose=0)"
            ]
          },
          "metadata": {},
          "execution_count": 28
        }
      ]
    },
    {
      "cell_type": "code",
      "metadata": {
        "colab": {
          "base_uri": "https://localhost:8080/"
        },
        "id": "NDhMDjqtBDe2",
        "outputId": "866d35f8-18e6-451b-8a97-918eeaa69d8f"
      },
      "source": [
        "logregCV.score(X_valid, y_valid)"
      ],
      "execution_count": 29,
      "outputs": [
        {
          "output_type": "execute_result",
          "data": {
            "text/plain": [
              "0.8562012590630113"
            ]
          },
          "metadata": {},
          "execution_count": 29
        }
      ]
    },
    {
      "cell_type": "code",
      "metadata": {
        "colab": {
          "base_uri": "https://localhost:8080/"
        },
        "id": "bK290bjgBDe2",
        "outputId": "9696342b-898e-456c-d40b-96a5afa44ff9"
      },
      "source": [
        "logregCV.C_"
      ],
      "execution_count": 30,
      "outputs": [
        {
          "output_type": "execute_result",
          "data": {
            "text/plain": [
              "array([0.1])"
            ]
          },
          "metadata": {},
          "execution_count": 30
        }
      ]
    },
    {
      "cell_type": "markdown",
      "metadata": {
        "id": "uVahy6JKEEZQ"
      },
      "source": [
        "Выпишите какое лучшее качество и с какими параметрами вам удалось получить"
      ]
    },
    {
      "cell_type": "code",
      "metadata": {
        "id": "Fqm5gHmrBDe3"
      },
      "source": [
        "# Kaggle submission\n",
        "submission = pd.read_csv('./submission.csv')\n",
        "submission['Churn'] = logregCV.predict_proba(test)[:, 1]\n",
        "submission.to_csv('./my_submission.csv', index=False)"
      ],
      "execution_count": 31,
      "outputs": []
    },
    {
      "cell_type": "markdown",
      "metadata": {
        "id": "OteUI97LBDe3"
      },
      "source": [
        "**Kaggle nickname: Shaorrran, Team Name: Zakhar_Tairov, Logistic Regression Score: 0.84575**"
      ]
    },
    {
      "cell_type": "markdown",
      "metadata": {
        "id": "qUbBO-jPH-mB"
      },
      "source": [
        "(Скор слегка изменился cо второго submission в процессе ковыряния параметров LogisticRegressionCV)"
      ]
    },
    {
      "cell_type": "markdown",
      "metadata": {
        "id": "BlTeVy7fEEZR"
      },
      "source": [
        "## Применение градиентного бустинга (2 балла)\n",
        "\n",
        "Если вы хотите получить баллы за точный ответ, то стоит попробовать градиентный бустинг. Часто градиентный бустинг с дефолтными параметрами даст вам 80% результата за 0% усилий.\n",
        "\n",
        "Мы будем использовать catboost, поэтому нам не надо кодировать категориальные признаки. catboost сделает это сам (в .fit() надо передать cat_features=cat_cols). А численные признаки нормировать для моделей, основанных на деревьях не нужно.\n",
        "\n",
        "1) Разделите выборку на train/valid. Протестируйте catboost cо стандартными параметрами.\n",
        "\n",
        "2) Протестируйте разные занчения параметроа количества деревьев и learning_rate'а и выберите лучшую по метрике ROC-AUC комбинацию. \n",
        "\n",
        "(Дополнительно) Есть некоторые сложности с тем, чтобы использовать CatBoostClassifier вместе с GridSearchCV, поэтому мы не просим использовать кроссвалидацию. Но можете попробовать)"
      ]
    },
    {
      "cell_type": "code",
      "metadata": {
        "colab": {
          "base_uri": "https://localhost:8080/"
        },
        "id": "Fioxxlp-EEZS",
        "outputId": "c813b592-f0e0-4c94-e3d8-c300ca1302a1"
      },
      "source": [
        "# Try 0: CatBoost\n",
        "!pip install catboost"
      ],
      "execution_count": 33,
      "outputs": [
        {
          "output_type": "stream",
          "name": "stdout",
          "text": [
            "Requirement already satisfied: catboost in /usr/local/lib/python3.7/dist-packages (1.0.0)\n",
            "Requirement already satisfied: pandas>=0.24.0 in /usr/local/lib/python3.7/dist-packages (from catboost) (1.1.5)\n",
            "Requirement already satisfied: scipy in /usr/local/lib/python3.7/dist-packages (from catboost) (1.4.1)\n",
            "Requirement already satisfied: matplotlib in /usr/local/lib/python3.7/dist-packages (from catboost) (3.2.2)\n",
            "Requirement already satisfied: six in /usr/local/lib/python3.7/dist-packages (from catboost) (1.15.0)\n",
            "Requirement already satisfied: plotly in /usr/local/lib/python3.7/dist-packages (from catboost) (4.4.1)\n",
            "Requirement already satisfied: numpy>=1.16.0 in /usr/local/lib/python3.7/dist-packages (from catboost) (1.19.5)\n",
            "Requirement already satisfied: graphviz in /usr/local/lib/python3.7/dist-packages (from catboost) (0.10.1)\n",
            "Requirement already satisfied: pytz>=2017.2 in /usr/local/lib/python3.7/dist-packages (from pandas>=0.24.0->catboost) (2018.9)\n",
            "Requirement already satisfied: python-dateutil>=2.7.3 in /usr/local/lib/python3.7/dist-packages (from pandas>=0.24.0->catboost) (2.8.2)\n",
            "Requirement already satisfied: kiwisolver>=1.0.1 in /usr/local/lib/python3.7/dist-packages (from matplotlib->catboost) (1.3.2)\n",
            "Requirement already satisfied: cycler>=0.10 in /usr/local/lib/python3.7/dist-packages (from matplotlib->catboost) (0.10.0)\n",
            "Requirement already satisfied: pyparsing!=2.0.4,!=2.1.2,!=2.1.6,>=2.0.1 in /usr/local/lib/python3.7/dist-packages (from matplotlib->catboost) (2.4.7)\n",
            "Requirement already satisfied: retrying>=1.3.3 in /usr/local/lib/python3.7/dist-packages (from plotly->catboost) (1.3.3)\n"
          ]
        }
      ]
    },
    {
      "cell_type": "code",
      "metadata": {
        "id": "jTVBvDGbGHhz",
        "outputId": "9607e141-de84-42f2-e187-49b375a0c3fc",
        "colab": {
          "base_uri": "https://localhost:8080/"
        }
      },
      "source": [
        "# No module name \"ipywidgets\" popped up when running on local machine, so i'll leave this here\n",
        "!pip install ipywidgets"
      ],
      "execution_count": 34,
      "outputs": [
        {
          "output_type": "stream",
          "name": "stdout",
          "text": [
            "Requirement already satisfied: ipywidgets in /usr/local/lib/python3.7/dist-packages (7.6.5)\n",
            "Requirement already satisfied: ipython-genutils~=0.2.0 in /usr/local/lib/python3.7/dist-packages (from ipywidgets) (0.2.0)\n",
            "Requirement already satisfied: nbformat>=4.2.0 in /usr/local/lib/python3.7/dist-packages (from ipywidgets) (5.1.3)\n",
            "Requirement already satisfied: ipython>=4.0.0 in /usr/local/lib/python3.7/dist-packages (from ipywidgets) (5.5.0)\n",
            "Requirement already satisfied: ipykernel>=4.5.1 in /usr/local/lib/python3.7/dist-packages (from ipywidgets) (4.10.1)\n",
            "Requirement already satisfied: jupyterlab-widgets>=1.0.0 in /usr/local/lib/python3.7/dist-packages (from ipywidgets) (1.0.2)\n",
            "Requirement already satisfied: widgetsnbextension~=3.5.0 in /usr/local/lib/python3.7/dist-packages (from ipywidgets) (3.5.1)\n",
            "Requirement already satisfied: traitlets>=4.3.1 in /usr/local/lib/python3.7/dist-packages (from ipywidgets) (5.1.0)\n",
            "Requirement already satisfied: jupyter-client in /usr/local/lib/python3.7/dist-packages (from ipykernel>=4.5.1->ipywidgets) (5.3.5)\n",
            "Requirement already satisfied: tornado>=4.0 in /usr/local/lib/python3.7/dist-packages (from ipykernel>=4.5.1->ipywidgets) (5.1.1)\n",
            "Requirement already satisfied: setuptools>=18.5 in /usr/local/lib/python3.7/dist-packages (from ipython>=4.0.0->ipywidgets) (57.4.0)\n",
            "Requirement already satisfied: pickleshare in /usr/local/lib/python3.7/dist-packages (from ipython>=4.0.0->ipywidgets) (0.7.5)\n",
            "Requirement already satisfied: decorator in /usr/local/lib/python3.7/dist-packages (from ipython>=4.0.0->ipywidgets) (4.4.2)\n",
            "Requirement already satisfied: prompt-toolkit<2.0.0,>=1.0.4 in /usr/local/lib/python3.7/dist-packages (from ipython>=4.0.0->ipywidgets) (1.0.18)\n",
            "Requirement already satisfied: simplegeneric>0.8 in /usr/local/lib/python3.7/dist-packages (from ipython>=4.0.0->ipywidgets) (0.8.1)\n",
            "Requirement already satisfied: pygments in /usr/local/lib/python3.7/dist-packages (from ipython>=4.0.0->ipywidgets) (2.6.1)\n",
            "Requirement already satisfied: pexpect in /usr/local/lib/python3.7/dist-packages (from ipython>=4.0.0->ipywidgets) (4.8.0)\n",
            "Requirement already satisfied: jupyter-core in /usr/local/lib/python3.7/dist-packages (from nbformat>=4.2.0->ipywidgets) (4.8.1)\n",
            "Requirement already satisfied: jsonschema!=2.5.0,>=2.4 in /usr/local/lib/python3.7/dist-packages (from nbformat>=4.2.0->ipywidgets) (2.6.0)\n",
            "Requirement already satisfied: wcwidth in /usr/local/lib/python3.7/dist-packages (from prompt-toolkit<2.0.0,>=1.0.4->ipython>=4.0.0->ipywidgets) (0.2.5)\n",
            "Requirement already satisfied: six>=1.9.0 in /usr/local/lib/python3.7/dist-packages (from prompt-toolkit<2.0.0,>=1.0.4->ipython>=4.0.0->ipywidgets) (1.15.0)\n",
            "Requirement already satisfied: notebook>=4.4.1 in /usr/local/lib/python3.7/dist-packages (from widgetsnbextension~=3.5.0->ipywidgets) (5.3.1)\n",
            "Requirement already satisfied: jinja2 in /usr/local/lib/python3.7/dist-packages (from notebook>=4.4.1->widgetsnbextension~=3.5.0->ipywidgets) (2.11.3)\n",
            "Requirement already satisfied: nbconvert in /usr/local/lib/python3.7/dist-packages (from notebook>=4.4.1->widgetsnbextension~=3.5.0->ipywidgets) (5.6.1)\n",
            "Requirement already satisfied: terminado>=0.8.1 in /usr/local/lib/python3.7/dist-packages (from notebook>=4.4.1->widgetsnbextension~=3.5.0->ipywidgets) (0.12.1)\n",
            "Requirement already satisfied: Send2Trash in /usr/local/lib/python3.7/dist-packages (from notebook>=4.4.1->widgetsnbextension~=3.5.0->ipywidgets) (1.8.0)\n",
            "Requirement already satisfied: python-dateutil>=2.1 in /usr/local/lib/python3.7/dist-packages (from jupyter-client->ipykernel>=4.5.1->ipywidgets) (2.8.2)\n",
            "Requirement already satisfied: pyzmq>=13 in /usr/local/lib/python3.7/dist-packages (from jupyter-client->ipykernel>=4.5.1->ipywidgets) (22.3.0)\n",
            "Requirement already satisfied: ptyprocess in /usr/local/lib/python3.7/dist-packages (from terminado>=0.8.1->notebook>=4.4.1->widgetsnbextension~=3.5.0->ipywidgets) (0.7.0)\n",
            "Requirement already satisfied: MarkupSafe>=0.23 in /usr/local/lib/python3.7/dist-packages (from jinja2->notebook>=4.4.1->widgetsnbextension~=3.5.0->ipywidgets) (2.0.1)\n",
            "Requirement already satisfied: testpath in /usr/local/lib/python3.7/dist-packages (from nbconvert->notebook>=4.4.1->widgetsnbextension~=3.5.0->ipywidgets) (0.5.0)\n",
            "Requirement already satisfied: defusedxml in /usr/local/lib/python3.7/dist-packages (from nbconvert->notebook>=4.4.1->widgetsnbextension~=3.5.0->ipywidgets) (0.7.1)\n",
            "Requirement already satisfied: mistune<2,>=0.8.1 in /usr/local/lib/python3.7/dist-packages (from nbconvert->notebook>=4.4.1->widgetsnbextension~=3.5.0->ipywidgets) (0.8.4)\n",
            "Requirement already satisfied: pandocfilters>=1.4.1 in /usr/local/lib/python3.7/dist-packages (from nbconvert->notebook>=4.4.1->widgetsnbextension~=3.5.0->ipywidgets) (1.5.0)\n",
            "Requirement already satisfied: bleach in /usr/local/lib/python3.7/dist-packages (from nbconvert->notebook>=4.4.1->widgetsnbextension~=3.5.0->ipywidgets) (4.1.0)\n",
            "Requirement already satisfied: entrypoints>=0.2.2 in /usr/local/lib/python3.7/dist-packages (from nbconvert->notebook>=4.4.1->widgetsnbextension~=3.5.0->ipywidgets) (0.3)\n",
            "Requirement already satisfied: webencodings in /usr/local/lib/python3.7/dist-packages (from bleach->nbconvert->notebook>=4.4.1->widgetsnbextension~=3.5.0->ipywidgets) (0.5.1)\n",
            "Requirement already satisfied: packaging in /usr/local/lib/python3.7/dist-packages (from bleach->nbconvert->notebook>=4.4.1->widgetsnbextension~=3.5.0->ipywidgets) (21.0)\n",
            "Requirement already satisfied: pyparsing>=2.0.2 in /usr/local/lib/python3.7/dist-packages (from packaging->bleach->nbconvert->notebook>=4.4.1->widgetsnbextension~=3.5.0->ipywidgets) (2.4.7)\n"
          ]
        }
      ]
    },
    {
      "cell_type": "code",
      "metadata": {
        "id": "Jc5CEN81BDe4"
      },
      "source": [
        "import catboost"
      ],
      "execution_count": 48,
      "outputs": []
    },
    {
      "cell_type": "code",
      "metadata": {
        "id": "LsqAAaFgBDe5"
      },
      "source": [
        "X_train, X_valid, y_train, y_valid = train_test_split(data_train[data_train.columns.difference([target_col])], data_train[target_col])"
      ],
      "execution_count": 49,
      "outputs": []
    },
    {
      "cell_type": "code",
      "metadata": {
        "colab": {
          "base_uri": "https://localhost:8080/"
        },
        "id": "hSC_6a2sBDe5",
        "outputId": "957c011d-1ea3-4f8a-cf5a-dcb71aa954e8"
      },
      "source": [
        "boosting_model = catboost.CatBoostClassifier(n_estimators=200, cat_features=cat_cols)\n",
        "\n",
        "boosting_model.fit(X_train, y_train)\n",
        "\n",
        "y_valid_pred = boosting_model.predict_proba(X_valid)[:, 1]"
      ],
      "execution_count": 50,
      "outputs": [
        {
          "output_type": "stream",
          "name": "stdout",
          "text": [
            "Learning rate set to 0.081037\n",
            "0:\tlearn: 0.6443095\ttotal: 10.1ms\tremaining: 2s\n",
            "1:\tlearn: 0.6062044\ttotal: 20.8ms\tremaining: 2.06s\n",
            "2:\tlearn: 0.5785233\ttotal: 27.9ms\tremaining: 1.83s\n",
            "3:\tlearn: 0.5469174\ttotal: 37.4ms\tremaining: 1.83s\n",
            "4:\tlearn: 0.5249463\ttotal: 47.2ms\tremaining: 1.84s\n",
            "5:\tlearn: 0.5065732\ttotal: 56.7ms\tremaining: 1.83s\n",
            "6:\tlearn: 0.4908668\ttotal: 66ms\tremaining: 1.82s\n",
            "7:\tlearn: 0.4779594\ttotal: 74.5ms\tremaining: 1.79s\n",
            "8:\tlearn: 0.4683302\ttotal: 83.7ms\tremaining: 1.78s\n",
            "9:\tlearn: 0.4599894\ttotal: 97.1ms\tremaining: 1.84s\n",
            "10:\tlearn: 0.4519531\ttotal: 107ms\tremaining: 1.84s\n",
            "11:\tlearn: 0.4443960\ttotal: 115ms\tremaining: 1.8s\n",
            "12:\tlearn: 0.4387906\ttotal: 126ms\tremaining: 1.8s\n",
            "13:\tlearn: 0.4331798\ttotal: 135ms\tremaining: 1.79s\n",
            "14:\tlearn: 0.4287957\ttotal: 143ms\tremaining: 1.77s\n",
            "15:\tlearn: 0.4257411\ttotal: 152ms\tremaining: 1.75s\n",
            "16:\tlearn: 0.4222896\ttotal: 161ms\tremaining: 1.73s\n",
            "17:\tlearn: 0.4207507\ttotal: 167ms\tremaining: 1.68s\n",
            "18:\tlearn: 0.4180103\ttotal: 173ms\tremaining: 1.65s\n",
            "19:\tlearn: 0.4157297\ttotal: 183ms\tremaining: 1.65s\n",
            "20:\tlearn: 0.4130214\ttotal: 195ms\tremaining: 1.66s\n",
            "21:\tlearn: 0.4125094\ttotal: 199ms\tremaining: 1.61s\n",
            "22:\tlearn: 0.4116289\ttotal: 204ms\tremaining: 1.57s\n",
            "23:\tlearn: 0.4104910\ttotal: 213ms\tremaining: 1.56s\n",
            "24:\tlearn: 0.4086363\ttotal: 227ms\tremaining: 1.59s\n",
            "25:\tlearn: 0.4067008\ttotal: 239ms\tremaining: 1.6s\n",
            "26:\tlearn: 0.4055960\ttotal: 249ms\tremaining: 1.59s\n",
            "27:\tlearn: 0.4042037\ttotal: 257ms\tremaining: 1.58s\n",
            "28:\tlearn: 0.4029196\ttotal: 267ms\tremaining: 1.57s\n",
            "29:\tlearn: 0.4021142\ttotal: 276ms\tremaining: 1.56s\n",
            "30:\tlearn: 0.4013302\ttotal: 285ms\tremaining: 1.55s\n",
            "31:\tlearn: 0.3998047\ttotal: 294ms\tremaining: 1.54s\n",
            "32:\tlearn: 0.3987513\ttotal: 304ms\tremaining: 1.54s\n",
            "33:\tlearn: 0.3982743\ttotal: 314ms\tremaining: 1.53s\n",
            "34:\tlearn: 0.3975202\ttotal: 323ms\tremaining: 1.52s\n",
            "35:\tlearn: 0.3964210\ttotal: 333ms\tremaining: 1.52s\n",
            "36:\tlearn: 0.3952851\ttotal: 343ms\tremaining: 1.51s\n",
            "37:\tlearn: 0.3943343\ttotal: 352ms\tremaining: 1.5s\n",
            "38:\tlearn: 0.3930083\ttotal: 362ms\tremaining: 1.49s\n",
            "39:\tlearn: 0.3922836\ttotal: 373ms\tremaining: 1.49s\n",
            "40:\tlearn: 0.3915423\ttotal: 382ms\tremaining: 1.48s\n",
            "41:\tlearn: 0.3899382\ttotal: 394ms\tremaining: 1.48s\n",
            "42:\tlearn: 0.3899379\ttotal: 398ms\tremaining: 1.45s\n",
            "43:\tlearn: 0.3891266\ttotal: 407ms\tremaining: 1.44s\n",
            "44:\tlearn: 0.3889627\ttotal: 416ms\tremaining: 1.43s\n",
            "45:\tlearn: 0.3886908\ttotal: 424ms\tremaining: 1.42s\n",
            "46:\tlearn: 0.3879604\ttotal: 435ms\tremaining: 1.42s\n",
            "47:\tlearn: 0.3871317\ttotal: 445ms\tremaining: 1.41s\n",
            "48:\tlearn: 0.3865968\ttotal: 454ms\tremaining: 1.4s\n",
            "49:\tlearn: 0.3865470\ttotal: 457ms\tremaining: 1.37s\n",
            "50:\tlearn: 0.3859312\ttotal: 473ms\tremaining: 1.38s\n",
            "51:\tlearn: 0.3858951\ttotal: 478ms\tremaining: 1.36s\n",
            "52:\tlearn: 0.3853610\ttotal: 488ms\tremaining: 1.35s\n",
            "53:\tlearn: 0.3852652\ttotal: 491ms\tremaining: 1.33s\n",
            "54:\tlearn: 0.3847720\ttotal: 501ms\tremaining: 1.32s\n",
            "55:\tlearn: 0.3840230\ttotal: 510ms\tremaining: 1.31s\n",
            "56:\tlearn: 0.3840230\ttotal: 512ms\tremaining: 1.28s\n",
            "57:\tlearn: 0.3839782\ttotal: 518ms\tremaining: 1.27s\n",
            "58:\tlearn: 0.3836790\ttotal: 528ms\tremaining: 1.26s\n",
            "59:\tlearn: 0.3836478\ttotal: 535ms\tremaining: 1.25s\n",
            "60:\tlearn: 0.3836033\ttotal: 541ms\tremaining: 1.23s\n",
            "61:\tlearn: 0.3835059\ttotal: 546ms\tremaining: 1.22s\n",
            "62:\tlearn: 0.3832478\ttotal: 556ms\tremaining: 1.21s\n",
            "63:\tlearn: 0.3829331\ttotal: 566ms\tremaining: 1.2s\n",
            "64:\tlearn: 0.3829260\ttotal: 571ms\tremaining: 1.19s\n",
            "65:\tlearn: 0.3827627\ttotal: 583ms\tremaining: 1.18s\n",
            "66:\tlearn: 0.3827033\ttotal: 587ms\tremaining: 1.17s\n",
            "67:\tlearn: 0.3826761\ttotal: 596ms\tremaining: 1.16s\n",
            "68:\tlearn: 0.3823811\ttotal: 609ms\tremaining: 1.16s\n",
            "69:\tlearn: 0.3821583\ttotal: 619ms\tremaining: 1.15s\n",
            "70:\tlearn: 0.3821280\ttotal: 624ms\tremaining: 1.13s\n",
            "71:\tlearn: 0.3818730\ttotal: 635ms\tremaining: 1.13s\n",
            "72:\tlearn: 0.3816158\ttotal: 645ms\tremaining: 1.12s\n",
            "73:\tlearn: 0.3814759\ttotal: 650ms\tremaining: 1.11s\n",
            "74:\tlearn: 0.3804265\ttotal: 660ms\tremaining: 1.1s\n",
            "75:\tlearn: 0.3802101\ttotal: 670ms\tremaining: 1.09s\n",
            "76:\tlearn: 0.3797227\ttotal: 681ms\tremaining: 1.09s\n",
            "77:\tlearn: 0.3793963\ttotal: 690ms\tremaining: 1.08s\n",
            "78:\tlearn: 0.3792795\ttotal: 700ms\tremaining: 1.07s\n",
            "79:\tlearn: 0.3780850\ttotal: 715ms\tremaining: 1.07s\n",
            "80:\tlearn: 0.3776518\ttotal: 725ms\tremaining: 1.06s\n",
            "81:\tlearn: 0.3764189\ttotal: 735ms\tremaining: 1.06s\n",
            "82:\tlearn: 0.3760254\ttotal: 745ms\tremaining: 1.05s\n",
            "83:\tlearn: 0.3749645\ttotal: 756ms\tremaining: 1.04s\n",
            "84:\tlearn: 0.3744779\ttotal: 765ms\tremaining: 1.03s\n",
            "85:\tlearn: 0.3730681\ttotal: 775ms\tremaining: 1.03s\n",
            "86:\tlearn: 0.3728584\ttotal: 785ms\tremaining: 1.02s\n",
            "87:\tlearn: 0.3727446\ttotal: 797ms\tremaining: 1.01s\n",
            "88:\tlearn: 0.3727279\ttotal: 801ms\tremaining: 999ms\n",
            "89:\tlearn: 0.3724698\ttotal: 810ms\tremaining: 990ms\n",
            "90:\tlearn: 0.3714434\ttotal: 819ms\tremaining: 981ms\n",
            "91:\tlearn: 0.3708527\ttotal: 828ms\tremaining: 973ms\n",
            "92:\tlearn: 0.3704873\ttotal: 839ms\tremaining: 965ms\n",
            "93:\tlearn: 0.3702590\ttotal: 848ms\tremaining: 956ms\n",
            "94:\tlearn: 0.3701553\ttotal: 858ms\tremaining: 948ms\n",
            "95:\tlearn: 0.3701330\ttotal: 864ms\tremaining: 936ms\n",
            "96:\tlearn: 0.3695125\ttotal: 874ms\tremaining: 929ms\n",
            "97:\tlearn: 0.3692249\ttotal: 885ms\tremaining: 921ms\n",
            "98:\tlearn: 0.3686962\ttotal: 895ms\tremaining: 913ms\n",
            "99:\tlearn: 0.3685737\ttotal: 905ms\tremaining: 905ms\n",
            "100:\tlearn: 0.3679349\ttotal: 915ms\tremaining: 897ms\n",
            "101:\tlearn: 0.3675883\ttotal: 926ms\tremaining: 890ms\n",
            "102:\tlearn: 0.3673454\ttotal: 939ms\tremaining: 884ms\n",
            "103:\tlearn: 0.3668907\ttotal: 948ms\tremaining: 875ms\n",
            "104:\tlearn: 0.3665519\ttotal: 957ms\tremaining: 865ms\n",
            "105:\tlearn: 0.3665518\ttotal: 960ms\tremaining: 851ms\n",
            "106:\tlearn: 0.3661301\ttotal: 970ms\tremaining: 843ms\n",
            "107:\tlearn: 0.3658931\ttotal: 980ms\tremaining: 835ms\n",
            "108:\tlearn: 0.3656965\ttotal: 989ms\tremaining: 826ms\n",
            "109:\tlearn: 0.3650228\ttotal: 1s\tremaining: 819ms\n",
            "110:\tlearn: 0.3644593\ttotal: 1.01s\tremaining: 811ms\n",
            "111:\tlearn: 0.3642694\ttotal: 1.02s\tremaining: 803ms\n",
            "112:\tlearn: 0.3641321\ttotal: 1.03s\tremaining: 793ms\n",
            "113:\tlearn: 0.3639458\ttotal: 1.04s\tremaining: 784ms\n",
            "114:\tlearn: 0.3632298\ttotal: 1.05s\tremaining: 775ms\n",
            "115:\tlearn: 0.3630798\ttotal: 1.06s\tremaining: 766ms\n",
            "116:\tlearn: 0.3628290\ttotal: 1.07s\tremaining: 759ms\n",
            "117:\tlearn: 0.3619564\ttotal: 1.08s\tremaining: 749ms\n",
            "118:\tlearn: 0.3612865\ttotal: 1.09s\tremaining: 740ms\n",
            "119:\tlearn: 0.3610840\ttotal: 1.1s\tremaining: 731ms\n",
            "120:\tlearn: 0.3604456\ttotal: 1.11s\tremaining: 723ms\n",
            "121:\tlearn: 0.3598725\ttotal: 1.12s\tremaining: 714ms\n",
            "122:\tlearn: 0.3596134\ttotal: 1.13s\tremaining: 705ms\n",
            "123:\tlearn: 0.3594437\ttotal: 1.14s\tremaining: 696ms\n",
            "124:\tlearn: 0.3587837\ttotal: 1.14s\tremaining: 687ms\n",
            "125:\tlearn: 0.3582175\ttotal: 1.15s\tremaining: 677ms\n",
            "126:\tlearn: 0.3579574\ttotal: 1.16s\tremaining: 669ms\n",
            "127:\tlearn: 0.3573475\ttotal: 1.17s\tremaining: 660ms\n",
            "128:\tlearn: 0.3570742\ttotal: 1.18s\tremaining: 651ms\n",
            "129:\tlearn: 0.3569512\ttotal: 1.19s\tremaining: 642ms\n",
            "130:\tlearn: 0.3566542\ttotal: 1.21s\tremaining: 636ms\n",
            "131:\tlearn: 0.3562233\ttotal: 1.22s\tremaining: 627ms\n",
            "132:\tlearn: 0.3559499\ttotal: 1.23s\tremaining: 618ms\n",
            "133:\tlearn: 0.3557552\ttotal: 1.24s\tremaining: 609ms\n",
            "134:\tlearn: 0.3555243\ttotal: 1.25s\tremaining: 600ms\n",
            "135:\tlearn: 0.3550397\ttotal: 1.25s\tremaining: 591ms\n",
            "136:\tlearn: 0.3545484\ttotal: 1.26s\tremaining: 582ms\n",
            "137:\tlearn: 0.3543641\ttotal: 1.28s\tremaining: 575ms\n",
            "138:\tlearn: 0.3541821\ttotal: 1.29s\tremaining: 566ms\n",
            "139:\tlearn: 0.3540735\ttotal: 1.3s\tremaining: 557ms\n",
            "140:\tlearn: 0.3538894\ttotal: 1.31s\tremaining: 549ms\n",
            "141:\tlearn: 0.3533080\ttotal: 1.32s\tremaining: 540ms\n",
            "142:\tlearn: 0.3530553\ttotal: 1.33s\tremaining: 531ms\n",
            "143:\tlearn: 0.3519961\ttotal: 1.34s\tremaining: 522ms\n",
            "144:\tlearn: 0.3516538\ttotal: 1.35s\tremaining: 513ms\n",
            "145:\tlearn: 0.3510310\ttotal: 1.36s\tremaining: 504ms\n",
            "146:\tlearn: 0.3509029\ttotal: 1.37s\tremaining: 495ms\n",
            "147:\tlearn: 0.3507218\ttotal: 1.38s\tremaining: 486ms\n",
            "148:\tlearn: 0.3500588\ttotal: 1.39s\tremaining: 477ms\n",
            "149:\tlearn: 0.3494018\ttotal: 1.41s\tremaining: 469ms\n",
            "150:\tlearn: 0.3492746\ttotal: 1.42s\tremaining: 459ms\n",
            "151:\tlearn: 0.3490554\ttotal: 1.43s\tremaining: 450ms\n",
            "152:\tlearn: 0.3479908\ttotal: 1.44s\tremaining: 441ms\n",
            "153:\tlearn: 0.3475891\ttotal: 1.45s\tremaining: 434ms\n",
            "154:\tlearn: 0.3471581\ttotal: 1.46s\tremaining: 425ms\n",
            "155:\tlearn: 0.3465943\ttotal: 1.48s\tremaining: 417ms\n",
            "156:\tlearn: 0.3463770\ttotal: 1.49s\tremaining: 408ms\n",
            "157:\tlearn: 0.3460731\ttotal: 1.5s\tremaining: 398ms\n",
            "158:\tlearn: 0.3457280\ttotal: 1.51s\tremaining: 389ms\n",
            "159:\tlearn: 0.3455456\ttotal: 1.52s\tremaining: 380ms\n",
            "160:\tlearn: 0.3453892\ttotal: 1.53s\tremaining: 370ms\n",
            "161:\tlearn: 0.3449158\ttotal: 1.54s\tremaining: 361ms\n",
            "162:\tlearn: 0.3444814\ttotal: 1.55s\tremaining: 351ms\n",
            "163:\tlearn: 0.3441169\ttotal: 1.56s\tremaining: 342ms\n",
            "164:\tlearn: 0.3431426\ttotal: 1.57s\tremaining: 333ms\n",
            "165:\tlearn: 0.3422818\ttotal: 1.58s\tremaining: 324ms\n",
            "166:\tlearn: 0.3415481\ttotal: 1.59s\tremaining: 314ms\n",
            "167:\tlearn: 0.3408921\ttotal: 1.6s\tremaining: 305ms\n",
            "168:\tlearn: 0.3404976\ttotal: 1.61s\tremaining: 296ms\n",
            "169:\tlearn: 0.3402312\ttotal: 1.63s\tremaining: 287ms\n",
            "170:\tlearn: 0.3397659\ttotal: 1.63s\tremaining: 277ms\n",
            "171:\tlearn: 0.3396821\ttotal: 1.64s\tremaining: 268ms\n",
            "172:\tlearn: 0.3390278\ttotal: 1.65s\tremaining: 258ms\n",
            "173:\tlearn: 0.3387072\ttotal: 1.66s\tremaining: 249ms\n",
            "174:\tlearn: 0.3382206\ttotal: 1.67s\tremaining: 239ms\n",
            "175:\tlearn: 0.3379007\ttotal: 1.68s\tremaining: 229ms\n",
            "176:\tlearn: 0.3377323\ttotal: 1.69s\tremaining: 220ms\n",
            "177:\tlearn: 0.3373976\ttotal: 1.7s\tremaining: 211ms\n",
            "178:\tlearn: 0.3371776\ttotal: 1.72s\tremaining: 202ms\n",
            "179:\tlearn: 0.3362518\ttotal: 1.73s\tremaining: 192ms\n",
            "180:\tlearn: 0.3355735\ttotal: 1.74s\tremaining: 183ms\n",
            "181:\tlearn: 0.3351556\ttotal: 1.75s\tremaining: 173ms\n",
            "182:\tlearn: 0.3349144\ttotal: 1.76s\tremaining: 163ms\n",
            "183:\tlearn: 0.3342761\ttotal: 1.77s\tremaining: 154ms\n",
            "184:\tlearn: 0.3338889\ttotal: 1.78s\tremaining: 144ms\n",
            "185:\tlearn: 0.3335508\ttotal: 1.79s\tremaining: 134ms\n",
            "186:\tlearn: 0.3328291\ttotal: 1.79s\tremaining: 125ms\n",
            "187:\tlearn: 0.3323112\ttotal: 1.8s\tremaining: 115ms\n",
            "188:\tlearn: 0.3322379\ttotal: 1.82s\tremaining: 106ms\n",
            "189:\tlearn: 0.3320587\ttotal: 1.83s\tremaining: 96.2ms\n",
            "190:\tlearn: 0.3316864\ttotal: 1.84s\tremaining: 86.5ms\n",
            "191:\tlearn: 0.3316335\ttotal: 1.85s\tremaining: 76.9ms\n",
            "192:\tlearn: 0.3309839\ttotal: 1.85s\tremaining: 67.3ms\n",
            "193:\tlearn: 0.3308348\ttotal: 1.87s\tremaining: 57.7ms\n",
            "194:\tlearn: 0.3305191\ttotal: 1.88s\tremaining: 48.1ms\n",
            "195:\tlearn: 0.3303309\ttotal: 1.89s\tremaining: 38.5ms\n",
            "196:\tlearn: 0.3296732\ttotal: 1.9s\tremaining: 28.9ms\n",
            "197:\tlearn: 0.3292578\ttotal: 1.91s\tremaining: 19.3ms\n",
            "198:\tlearn: 0.3290912\ttotal: 1.92s\tremaining: 9.63ms\n",
            "199:\tlearn: 0.3284286\ttotal: 1.93s\tremaining: 0us\n"
          ]
        }
      ]
    },
    {
      "cell_type": "code",
      "metadata": {
        "colab": {
          "base_uri": "https://localhost:8080/"
        },
        "id": "l1OCYJ1QBDe6",
        "outputId": "fd8faeba-7858-4a99-a683-fab8ea7f9fef"
      },
      "source": [
        "roc_auc_score(y_valid, y_valid_pred)"
      ],
      "execution_count": 51,
      "outputs": [
        {
          "output_type": "execute_result",
          "data": {
            "text/plain": [
              "0.8373185483870967"
            ]
          },
          "metadata": {},
          "execution_count": 51
        }
      ]
    },
    {
      "cell_type": "code",
      "metadata": {
        "colab": {
          "base_uri": "https://localhost:8080/"
        },
        "id": "6iZ-D9rHBDe6",
        "outputId": "31060747-4a17-4a9f-bc91-34e983ffa70e"
      },
      "source": [
        "# Try 1: xgboost\n",
        "!pip install xgboost"
      ],
      "execution_count": 54,
      "outputs": [
        {
          "output_type": "stream",
          "name": "stdout",
          "text": [
            "Requirement already satisfied: xgboost in /usr/local/lib/python3.7/dist-packages (0.90)\n",
            "Requirement already satisfied: scipy in /usr/local/lib/python3.7/dist-packages (from xgboost) (1.4.1)\n",
            "Requirement already satisfied: numpy in /usr/local/lib/python3.7/dist-packages (from xgboost) (1.19.5)\n"
          ]
        }
      ]
    },
    {
      "cell_type": "code",
      "metadata": {
        "id": "jbrARa5hBDe7"
      },
      "source": [
        "import xgboost"
      ],
      "execution_count": 55,
      "outputs": []
    },
    {
      "cell_type": "code",
      "metadata": {
        "id": "iyVpjWDqBDe7"
      },
      "source": [
        "# Some preprocessing, because XGBoost cannot into categorical features\n",
        "X, y = data_train[data_train.columns.difference([target_col])], data_train[target_col]\n",
        "X = one_hot(X, num_cols, cat_cols)\n",
        "test = one_hot(data_test, num_cols, cat_cols)\n",
        "X_train, X_valid, y_train, y_valid = train_test_split(X, y, test_size=0.3, stratify=y)"
      ],
      "execution_count": 56,
      "outputs": []
    },
    {
      "cell_type": "code",
      "metadata": {
        "id": "P_WeUSyoEsrU"
      },
      "source": [
        "from sklearn.model_selection import RandomizedSearchCV"
      ],
      "execution_count": 57,
      "outputs": []
    },
    {
      "cell_type": "code",
      "metadata": {
        "colab": {
          "base_uri": "https://localhost:8080/"
        },
        "id": "xPlIWFBhBDe8",
        "outputId": "d7c710d8-4da6-41e3-8a14-697790ae8bf2"
      },
      "source": [
        "param_grid = {\n",
        "    'verbosity': [0],\n",
        "    'max_depth': [2, 3, 4, 5],\n",
        "    'learning_rate': [0.001, 0.01, 0.1, 0.15],\n",
        "    'subsample': [0.7, 0.8, 0.9, 1.0],\n",
        "    'colsample_bytree': [0.7, 0.8, 0.9, 1.0],\n",
        "    'colsample_bylevel': [0.7, 0.8, 0.9, 1.0],\n",
        "    'min_child_weight': [0.5, 1.0, 3.0],\n",
        "    'gamma': [0, 0.25, 0.5, 1.0],\n",
        "    'reg_lambda': [0.1, 1.0, 5.0, 10.0, 50.0, 100.0],\n",
        "    'n_estimators': [50, 100, 150],\n",
        "    'scale_pos_weight': [1, 1.5, 2],\n",
        "    'max_delta_step': [1, 2, 3],\n",
        "    'eval_metric': [\"auc\"],\n",
        "    \"use_label_encoder\": [False]\n",
        "}\n",
        "\n",
        "xg_grid = RandomizedSearchCV(xgboost.XGBClassifier(), param_grid, n_iter=100)\n",
        "xg_grid.fit(X_train, y_train)"
      ],
      "execution_count": 58,
      "outputs": [
        {
          "output_type": "execute_result",
          "data": {
            "text/plain": [
              "RandomizedSearchCV(cv=None, error_score=nan,\n",
              "                   estimator=XGBClassifier(base_score=0.5, booster='gbtree',\n",
              "                                           colsample_bylevel=1,\n",
              "                                           colsample_bynode=1,\n",
              "                                           colsample_bytree=1, gamma=0,\n",
              "                                           learning_rate=0.1, max_delta_step=0,\n",
              "                                           max_depth=3, min_child_weight=1,\n",
              "                                           missing=None, n_estimators=100,\n",
              "                                           n_jobs=1, nthread=None,\n",
              "                                           objective='binary:logistic',\n",
              "                                           random_state=0, reg_alpha=0,\n",
              "                                           reg_lambda=1...\n",
              "                                        'max_delta_step': [1, 2, 3],\n",
              "                                        'max_depth': [2, 3, 4, 5],\n",
              "                                        'min_child_weight': [0.5, 1.0, 3.0],\n",
              "                                        'n_estimators': [50, 100, 150],\n",
              "                                        'reg_lambda': [0.1, 1.0, 5.0, 10.0,\n",
              "                                                       50.0, 100.0],\n",
              "                                        'scale_pos_weight': [1, 1.5, 2],\n",
              "                                        'subsample': [0.7, 0.8, 0.9, 1.0],\n",
              "                                        'use_label_encoder': [False],\n",
              "                                        'verbosity': [0]},\n",
              "                   pre_dispatch='2*n_jobs', random_state=None, refit=True,\n",
              "                   return_train_score=False, scoring=None, verbose=0)"
            ]
          },
          "metadata": {},
          "execution_count": 58
        }
      ]
    },
    {
      "cell_type": "code",
      "metadata": {
        "colab": {
          "base_uri": "https://localhost:8080/"
        },
        "id": "d4fHCwvIBDe8",
        "outputId": "dd86a85c-9b0e-423f-9e56-f066be0fec46"
      },
      "source": [
        "xg_grid.best_params_"
      ],
      "execution_count": 59,
      "outputs": [
        {
          "output_type": "execute_result",
          "data": {
            "text/plain": [
              "{'colsample_bylevel': 1.0,\n",
              " 'colsample_bytree': 1.0,\n",
              " 'eval_metric': 'auc',\n",
              " 'gamma': 0.25,\n",
              " 'learning_rate': 0.1,\n",
              " 'max_delta_step': 1,\n",
              " 'max_depth': 4,\n",
              " 'min_child_weight': 0.5,\n",
              " 'n_estimators': 50,\n",
              " 'reg_lambda': 5.0,\n",
              " 'scale_pos_weight': 1,\n",
              " 'subsample': 0.9,\n",
              " 'use_label_encoder': False,\n",
              " 'verbosity': 0}"
            ]
          },
          "metadata": {},
          "execution_count": 59
        }
      ]
    },
    {
      "cell_type": "code",
      "metadata": {
        "id": "6whGp6x6FBy5"
      },
      "source": [
        "boosting_model = xgboost.XGBClassifier(**xg_grid.best_params_)\n",
        "\n",
        "boosting_model.fit(X_train, y_train)\n",
        "\n",
        "y_valid_pred = boosting_model.predict_proba(X_valid)[:, 1]"
      ],
      "execution_count": 60,
      "outputs": []
    },
    {
      "cell_type": "code",
      "metadata": {
        "colab": {
          "base_uri": "https://localhost:8080/"
        },
        "id": "1UfsV8DrFbh7",
        "outputId": "6d19ceda-f909-44df-d990-18ec5b659c84"
      },
      "source": [
        "roc_auc_score(y_valid, y_valid_pred)"
      ],
      "execution_count": 61,
      "outputs": [
        {
          "output_type": "execute_result",
          "data": {
            "text/plain": [
              "0.8499661564526979"
            ]
          },
          "metadata": {},
          "execution_count": 61
        }
      ]
    },
    {
      "cell_type": "code",
      "metadata": {
        "id": "tYg0TMZKTHIT"
      },
      "source": [
        "# Kaggle submission\n",
        "submission = pd.read_csv('./submission.csv')\n",
        "submission['Churn'] = boosting_model.predict_proba(test)[:, 1]\n",
        "submission.to_csv('./my_submission.csv', index=False)"
      ],
      "execution_count": 62,
      "outputs": []
    },
    {
      "cell_type": "markdown",
      "metadata": {
        "id": "rf4Kjt96EEZU"
      },
      "source": [
        "Выпишите какое лучшее качество и с какими параметрами вам удалось получить"
      ]
    },
    {
      "cell_type": "markdown",
      "metadata": {
        "id": "2PPFrvknPv-w"
      },
      "source": [
        "**Kaggle nickname: Shaorrran, Team Name: Zakhar_Tairov, Maximum gradient boosting score: 0.85068, Classifier: XGBoostClassifier, Params: see `xg_grid.best_params` above.**"
      ]
    },
    {
      "cell_type": "markdown",
      "metadata": {
        "id": "mkxjbGkVEEZc"
      },
      "source": [
        "# Kaggle (5 баллов)\n",
        "\n",
        "Как выставить баллы:\n",
        "\n",
        "1) 1 >= roc auc > 0.84 это 5 баллов\n",
        "\n",
        "2) 0.84 >= roc auc > 0.7 это 3 балла\n",
        "\n",
        "3) 0.7 >= roc auc > 0.6 это 1 балл\n",
        "\n",
        "4) 0.6 >= roc auc это 0 баллов\n",
        "\n",
        "\n",
        "Для выполнения задания необходимо выполнить следующие шаги.\n",
        "* Зарегистрироваться на платформе [kaggle.com](kaggle.com). Процесс выставления оценок будет проходить при подведении итогового рейтинга. Пожалуйста, укажите во вкладке Team -> Team name свои имя и фамилию в формате Имя_Фамилия (важно, чтобы имя и фамилия совпадали с данными на Stepik).\n",
        "* Обучить модель, получить файл с ответами в формате .csv и сдать его в конкурс. Пробуйте и экспериментируйте. Обратите внимание, что вы можете выполнять до 20 попыток сдачи на kaggle в день.\n",
        "* После окончания соревнования отправить в итоговый ноутбук с решением на степик. \n",
        "* После дедлайна проверьте посылки других участников по критериям. Для этого надо зайти на степик, скачать их ноутбук и проверить скор в соревновании."
      ]
    }
  ]
}